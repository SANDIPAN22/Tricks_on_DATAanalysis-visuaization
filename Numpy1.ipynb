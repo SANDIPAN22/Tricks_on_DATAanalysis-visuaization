{
 "cells": [
  {
   "cell_type": "markdown",
   "metadata": {},
   "source": [
    "# Joining and Splitting using Numpy"
   ]
  },
  {
   "cell_type": "code",
   "execution_count": 2,
   "metadata": {},
   "outputs": [
    {
     "name": "stdout",
     "output_type": "stream",
     "text": [
      "[1 2 3 4 5 6]\n"
     ]
    }
   ],
   "source": [
    "import numpy as np\n",
    "\n",
    "arr=np.array([1,2,3,4,5,6])\n",
    "print(arr)"
   ]
  },
  {
   "cell_type": "code",
   "execution_count": 4,
   "metadata": {},
   "outputs": [
    {
     "name": "stdout",
     "output_type": "stream",
     "text": [
      "[4 5 6]\n"
     ]
    }
   ],
   "source": [
    "n_arr=np.hsplit(arr,2)\n",
    "print(n_arr[1])"
   ]
  },
  {
   "cell_type": "code",
   "execution_count": 7,
   "metadata": {},
   "outputs": [
    {
     "name": "stdout",
     "output_type": "stream",
     "text": [
      "[[1 2 3]\n",
      " [4 5 6]]\n"
     ]
    }
   ],
   "source": [
    "arr1=np.vstack((n_arr[0],n_arr[1]))\n",
    "print(arr1)"
   ]
  },
  {
   "cell_type": "code",
   "execution_count": 8,
   "metadata": {},
   "outputs": [
    {
     "name": "stdout",
     "output_type": "stream",
     "text": [
      "[[1 2 3]\n",
      " [4 5 6]\n",
      " [7 8 9]\n",
      " [3 2 1]]\n",
      "(4, 3)\n"
     ]
    }
   ],
   "source": [
    "an=np.array([[1,2,3],[4,5,6],[7,8,9],[3,2,1]])\n",
    "print(an)\n",
    "print(an.shape)"
   ]
  },
  {
   "cell_type": "code",
   "execution_count": 14,
   "metadata": {},
   "outputs": [
    {
     "name": "stdout",
     "output_type": "stream",
     "text": [
      "[[1 2 3]\n",
      " [4 5 6]]\n",
      "\n",
      "[[7 8 9]\n",
      " [3 2 1]]\n"
     ]
    }
   ],
   "source": [
    "ua=np.vsplit(an,2)\n",
    "\n",
    "print(ua[0])\n",
    "print()\n",
    "print(ua[1])"
   ]
  },
  {
   "cell_type": "code",
   "execution_count": 15,
   "metadata": {},
   "outputs": [
    {
     "name": "stdout",
     "output_type": "stream",
     "text": [
      "[1 4 7 3]\n",
      "\n",
      "[[2]\n",
      " [5]\n",
      " [8]\n",
      " [2]]\n",
      "\n",
      "[[3]\n",
      " [6]\n",
      " [9]\n",
      " [1]]\n"
     ]
    }
   ],
   "source": [
    "ua=np.hsplit(an,3)\n",
    "\n",
    "print(ua[0].reshape(-1))\n",
    "print()\n",
    "print(ua[1])\n",
    "print()\n",
    "print(ua[2])"
   ]
  },
  {
   "cell_type": "code",
   "execution_count": 23,
   "metadata": {},
   "outputs": [
    {
     "name": "stdout",
     "output_type": "stream",
     "text": [
      "[4 5]\n"
     ]
    }
   ],
   "source": [
    "## index value will be printed\n",
    "arr2=np.array([1,2,3,4,5,5,6,6,7,7,7,8,8])\n",
    "\n",
    "x=np.where(arr2==5)\n",
    "print(x[0])\n",
    "\n"
   ]
  },
  {
   "cell_type": "code",
   "execution_count": 25,
   "metadata": {},
   "outputs": [
    {
     "name": "stdout",
     "output_type": "stream",
     "text": [
      "[ 1  3  6  7 11 12]\n"
     ]
    }
   ],
   "source": [
    "## Index of the even values in the array\n",
    "\n",
    "arr2=np.array([1,2,3,4,5,5,6,6,7,7,7,8,8])\n",
    "\n",
    "x=np.where(arr2%2==0)\n",
    "print(x[0])"
   ]
  },
  {
   "cell_type": "markdown",
   "metadata": {},
   "source": [
    "# Search Sorted\n",
    "There is a method called searchsorted() which performs a binary search in the array, and returns the index \n",
    "where the specified value would be inserted to maintain the search order.\n"
   ]
  },
  {
   "cell_type": "code",
   "execution_count": 29,
   "metadata": {},
   "outputs": [
    {
     "name": "stdout",
     "output_type": "stream",
     "text": [
      "6\n"
     ]
    }
   ],
   "source": [
    "arr3=np.array([1,2,3,4,5,6])\n",
    "y=np.searchsorted(arr3,10)\n",
    "print(y)"
   ]
  },
  {
   "cell_type": "code",
   "execution_count": 30,
   "metadata": {},
   "outputs": [
    {
     "name": "stdout",
     "output_type": "stream",
     "text": [
      "[4 1 6]\n"
     ]
    }
   ],
   "source": [
    "arr4=np.array([1,4,6])\n",
    "y=np.searchsorted(arr3,(5,2,10))\n",
    "print(y)"
   ]
  },
  {
   "cell_type": "markdown",
   "metadata": {},
   "source": [
    "# Sorting Arrays\n",
    "Sorting means putting elements in a ordered sequence.\n",
    "\n",
    "Ordered sequence is any sequence that has an order corresponding to elements, like numeric or alphabetical, ascending or descending.\n",
    "\n",
    "The NumPy ndarray object has a function called sort(), that will sort a specified array."
   ]
  },
  {
   "cell_type": "code",
   "execution_count": 33,
   "metadata": {},
   "outputs": [
    {
     "name": "stdout",
     "output_type": "stream",
     "text": [
      "[1 4 6]\n"
     ]
    }
   ],
   "source": [
    "arr5=np.sort(arr4)\n",
    "\n",
    "print(arr5)"
   ]
  },
  {
   "cell_type": "code",
   "execution_count": 34,
   "metadata": {},
   "outputs": [
    {
     "name": "stdout",
     "output_type": "stream",
     "text": [
      "['ant' 'box' 'boy' 'cat' 'fox']\n"
     ]
    }
   ],
   "source": [
    "arr6=np.array([\"fox\",\"cat\",\"ant\",\"box\",\"boy\"])\n",
    "\n",
    "arr7=np.sort(arr6)\n",
    "\n",
    "print(arr7)"
   ]
  },
  {
   "cell_type": "raw",
   "metadata": {},
   "source": [
    "Sorting a 2-D Array\n",
    "If you use the sort() method on a 2-D array, both arrays will be sorted:"
   ]
  },
  {
   "cell_type": "code",
   "execution_count": 36,
   "metadata": {},
   "outputs": [
    {
     "name": "stdout",
     "output_type": "stream",
     "text": [
      "[[ 1 21  3]\n",
      " [ 4 15  6]\n",
      " [17  8  9]\n",
      " [31 12 11]]\n"
     ]
    }
   ],
   "source": [
    "an1=np.array([[1,21,3],[4,15,6],[17,8,9],[31,12,11]])\n",
    "\n",
    "ab12=np.sort(an1)\n",
    "\n",
    "print(an1)"
   ]
  },
  {
   "cell_type": "markdown",
   "metadata": {},
   "source": [
    "# Filtering Arrays\n",
    "Getting some elements out of an existing array and creating a new array out of them is called filtering.\n",
    "\n",
    "In NumPy, you filter an array using a boolean index list.\n",
    "\n",
    "A boolean index list is a list of booleans corresponding to indexes in the array.\n",
    "\n",
    "If the value at an index is True that element is contained in the filtered array, \n",
    "if the value at that index is False that element is excluded from the filtered array."
   ]
  },
  {
   "cell_type": "code",
   "execution_count": 37,
   "metadata": {},
   "outputs": [
    {
     "name": "stdout",
     "output_type": "stream",
     "text": [
      "[12 45]\n"
     ]
    }
   ],
   "source": [
    "ar12=np.array([12,23,45,67])\n",
    "f_a=[True,False,True,False]\n",
    "\n",
    "f_ar12=ar12[f_a]\n",
    "\n",
    "print(f_ar12)"
   ]
  },
  {
   "cell_type": "code",
   "execution_count": 38,
   "metadata": {},
   "outputs": [
    {
     "name": "stdout",
     "output_type": "stream",
     "text": [
      "[23 45 67]\n"
     ]
    }
   ],
   "source": [
    "ff=ar12>=23\n",
    "\n",
    "ff_ar12=ar12[ff]\n",
    "\n",
    "print(ff_ar12)"
   ]
  },
  {
   "cell_type": "code",
   "execution_count": null,
   "metadata": {},
   "outputs": [],
   "source": []
  }
 ],
 "metadata": {
  "kernelspec": {
   "display_name": "Python 3",
   "language": "python",
   "name": "python3"
  },
  "language_info": {
   "codemirror_mode": {
    "name": "ipython",
    "version": 3
   },
   "file_extension": ".py",
   "mimetype": "text/x-python",
   "name": "python",
   "nbconvert_exporter": "python",
   "pygments_lexer": "ipython3",
   "version": "3.7.7"
  }
 },
 "nbformat": 4,
 "nbformat_minor": 4
}
